{
  "nbformat": 4,
  "nbformat_minor": 0,
  "metadata": {
    "colab": {
      "name": "Untitled8.ipynb",
      "provenance": [],
      "collapsed_sections": [],
      "toc_visible": true
    },
    "kernelspec": {
      "display_name": "Python 3",
      "name": "python3"
    },
    "accelerator": "GPU"
  },
  "cells": [
    {
      "cell_type": "markdown",
      "metadata": {
        "id": "Ei_IpLzsQKjw"
      },
      "source": [
        "# **Face regconition**\n",
        "This project use to regconize the character in the serie Breaking Bad\n"
      ]
    },
    {
      "cell_type": "markdown",
      "metadata": {
        "id": "9cR2_yYQQp_t"
      },
      "source": [
        "Firstly, we load the library and the data"
      ]
    },
    {
      "cell_type": "code",
      "metadata": {
        "id": "UV6ApxceplT4"
      },
      "source": [
        "%%capture\n",
        "!pip install wget\n",
        "import wget"
      ],
      "execution_count": 3,
      "outputs": []
    },
    {
      "cell_type": "code",
      "metadata": {
        "id": "F-0YieBilVfQ"
      },
      "source": [
        "%%capture\n",
        "!pip install intel-tensorflow\n",
        "!pip install mtcnn==0.1.0\n",
        "!pip install tensorflow==2.3\n",
        "\n",
        "import os"
      ],
      "execution_count": 4,
      "outputs": []
    },
    {
      "cell_type": "code",
      "metadata": {
        "colab": {
          "base_uri": "https://localhost:8080/",
          "height": 35
        },
        "id": "e7lxr8BWiL5j",
        "outputId": "b1c9258a-920c-4de5-8900-1d2fe6687007"
      },
      "source": [
        "wget.download('https://github.com/dautroc1/Face-regconition/raw/main/data/weights.zip')\n",
        "wget.download('https://github.com/dautroc1/Face-regconition/raw/main/data/fr_utils.py')\n",
        "wget.download('https://github.com/dautroc1/Face-regconition/raw/main/data/inception_blocks_v2.py')\n",
        "wget.download('https://github.com/dautroc1/Face-regconition/raw/main/data/image.zip')\n",
        "wget.download('https://github.com/dautroc1/Face-regconition/raw/main/data/test.zip')"
      ],
      "execution_count": 5,
      "outputs": [
        {
          "output_type": "execute_result",
          "data": {
            "application/vnd.google.colaboratory.intrinsic+json": {
              "type": "string"
            },
            "text/plain": [
              "'test.zip'"
            ]
          },
          "metadata": {
            "tags": []
          },
          "execution_count": 5
        }
      ]
    },
    {
      "cell_type": "code",
      "metadata": {
        "id": "3j8G7JlfyH7p"
      },
      "source": [
        "\n",
        "from PIL import Image\n",
        "from tensorflow.keras import Sequential\n",
        "from tensorflow.keras.layers import Conv2D, ZeroPadding2D, Activation, Input\n",
        "from keras.models import Model\n",
        "from keras.layers.normalization import BatchNormalization\n",
        "from keras.layers.pooling import MaxPooling2D, AveragePooling2D\n",
        "from keras.layers.merge import Concatenate\n",
        "from keras.layers.core import Lambda, Flatten, Dense\n",
        "from keras.initializers import glorot_uniform\n",
        "from keras.engine.topology import Layer\n",
        "from keras import backend as K\n",
        "K.set_image_data_format('channels_first')\n",
        "import cv2\n",
        "import os\n",
        "import numpy as np\n",
        "from numpy import genfromtxt\n",
        "import pandas as pd\n",
        "import tensorflow as tf\n",
        "from fr_utils import *\n",
        "from inception_blocks_v2 import *\n",
        "from IPython.display import Image as Iimage\n",
        "import tensorflow.keras.backend\n",
        "import keras\n",
        "if K.backend()=='tensorflow':\n",
        "    keras.backend.set_image_data_format(\"channels_last\")\n",
        "\n",
        "\n",
        "\n",
        "%matplotlib inline\n",
        "%load_ext autoreload\n",
        "%autoreload 2\n",
        "\n"
      ],
      "execution_count": 6,
      "outputs": []
    },
    {
      "cell_type": "code",
      "metadata": {
        "id": "8SBp3nFUFQwp"
      },
      "source": [
        "%%capture\n",
        "!unzip weights.zip\n",
        "!unzip image.zip\n",
        "!unzip test.zip"
      ],
      "execution_count": 7,
      "outputs": []
    },
    {
      "cell_type": "markdown",
      "metadata": {
        "id": "ra8oUKa1U9uk"
      },
      "source": [
        "Then, we need to extract face from the data and resize to the correct format"
      ]
    },
    {
      "cell_type": "code",
      "metadata": {
        "id": "LksPzVGyU9CN"
      },
      "source": [
        "%%capture\n",
        "prepare_data()"
      ],
      "execution_count": null,
      "outputs": []
    },
    {
      "cell_type": "markdown",
      "metadata": {
        "id": "eY5fADCTRc0u"
      },
      "source": [
        "We have already trained the model. Now, we are loading the weights into the model."
      ]
    },
    {
      "cell_type": "code",
      "metadata": {
        "id": "-XcPXb1szhVx",
        "colab": {
          "base_uri": "https://localhost:8080/"
        },
        "outputId": "4d6ff062-7be9-4eb4-8fdf-888bb39bf48d"
      },
      "source": [
        "K.set_image_data_format('channels_first')\n",
        "FRmodel = faceRecoModel(input_shape=(3,96, 96))\n",
        "print(\"Total Params:\", FRmodel.count_params())"
      ],
      "execution_count": 9,
      "outputs": [
        {
          "output_type": "stream",
          "text": [
            "Total Params: 3743280\n"
          ],
          "name": "stdout"
        }
      ]
    },
    {
      "cell_type": "code",
      "metadata": {
        "id": "0jW_Lj10z1bJ"
      },
      "source": [
        "def triplet_loss(y_true, y_pred, alpha = 0.2):\n",
        "    \n",
        "    anchor, positive, negative = y_pred[0], y_pred[1], y_pred[2]\n",
        "    pos_dist = tf.reduce_sum(tf.square(tf.subtract(anchor, positive)), axis=-1)\n",
        "   \n",
        "    neg_dist = tf.reduce_sum(tf.square(tf.subtract(anchor, negative)), axis= -1)\n",
        "    \n",
        "    basic_loss = tf.add(tf.subtract(pos_dist, neg_dist), alpha)\n",
        "    \n",
        "    loss = tf.reduce_sum(tf.maximum(basic_loss, 0.0))\n",
        "    \n",
        "    \n",
        "    return loss"
      ],
      "execution_count": 10,
      "outputs": []
    },
    {
      "cell_type": "code",
      "metadata": {
        "id": "GupArKHTzsz-"
      },
      "source": [
        "FRmodel.compile(optimizer = 'adam', loss = triplet_loss, metrics = ['accuracy'])\n",
        "load_weights_from_FaceNet(FRmodel)"
      ],
      "execution_count": 11,
      "outputs": []
    },
    {
      "cell_type": "markdown",
      "metadata": {
        "id": "eaxqKu3RR6vG"
      },
      "source": [
        "This function is used to add images to database."
      ]
    },
    {
      "cell_type": "code",
      "metadata": {
        "id": "c8Eoqw9ot9o7"
      },
      "source": [
        "def encoding_all(database):\n",
        "  wal = str('Walter White')\n",
        "  files_and_directories = os.listdir(\"train/Walter white/\")\n",
        "  for element in files_and_directories:\n",
        "    database[wal].append(img_to_encoding(\"train/Walter white/\" + element, FRmodel))\n",
        "  files_and_directories = os.listdir(\"train/Gus/\")\n",
        "  for element in files_and_directories:\n",
        "    database[\"Gustavo Fring\"].append(img_to_encoding(\"train/Gus/\" + element, FRmodel))\n",
        "  files_and_directories = os.listdir(\"train/Hank/\")\n",
        "  for element in files_and_directories:\n",
        "    database[\"Hank Schrader\"].append(img_to_encoding(\"train/Hank/\" + element, FRmodel))\n",
        "  files_and_directories = os.listdir(\"train/Jesse/\")\n",
        "  for element in files_and_directories:\n",
        "    database[\"Jesse Pinkman\"].append(img_to_encoding(\"train/Jesse/\" + element, FRmodel))\n",
        "  files_and_directories = os.listdir(\"train/Lydia/\")\n",
        "  for element in files_and_directories:\n",
        "    database[\"Lydia Rodarte-Quayle\"].append(img_to_encoding(\"train/Lydia/\" + element, FRmodel))\n",
        "  files_and_directories = os.listdir(\"train/Marie/\")\n",
        "  for element in files_and_directories:\n",
        "    database[\"Marie Schrader\"].append(img_to_encoding(\"train/Marie/\" + element, FRmodel))\n",
        "  files_and_directories = os.listdir(\"train/Mike/\")\n",
        "  for element in files_and_directories:\n",
        "    database[\"Mike Ehrmantraut\"].append(img_to_encoding(\"train/Mike/\" + element, FRmodel))\n",
        "  files_and_directories = os.listdir(\"train/Saul/\")\n",
        "  for element in files_and_directories:\n",
        "    database[\"Saul Goodman\"].append(img_to_encoding(\"train/Saul/\" + element, FRmodel))\n",
        "  files_and_directories = os.listdir(\"train/Skyler/\")\n",
        "  for element in files_and_directories:\n",
        "    database[\"Skyler White\"].append(img_to_encoding(\"train/Skyler/\" + element, FRmodel))\n",
        "  files_and_directories = os.listdir(\"train/Todd/\")\n",
        "  for element in files_and_directories:\n",
        "    database[\"Todd Alquist\"].append(img_to_encoding(\"train/Todd/\" + element, FRmodel))\n",
        "  files_and_directories = os.listdir(\"train/Walter jr/\")\n",
        "  for element in files_and_directories:\n",
        "    database[\"Walter White Jr.\"].append(img_to_encoding(\"train/Walter jr/\" + element, FRmodel))\n",
        "  "
      ],
      "execution_count": 12,
      "outputs": []
    },
    {
      "cell_type": "markdown",
      "metadata": {
        "id": "WGDgUf4dSTaS"
      },
      "source": [
        "Now we are loading train image to database."
      ]
    },
    {
      "cell_type": "code",
      "metadata": {
        "id": "PmScj0rBF60w"
      },
      "source": [
        "\n",
        "from collections import defaultdict\n",
        "database = defaultdict(list)\n",
        "encoding_all(database)"
      ],
      "execution_count": 13,
      "outputs": []
    },
    {
      "cell_type": "markdown",
      "metadata": {
        "id": "O13aediLSkoF"
      },
      "source": [
        "This function is used to return who is this character."
      ]
    },
    {
      "cell_type": "code",
      "metadata": {
        "id": "_p7-ScWKnKbp"
      },
      "source": [
        "def who_is_it(image_path, database, model):\n",
        "    \n",
        "    encoding = img_to_encoding(image_path, model)\n",
        "    \n",
        "    min_dist = 100\n",
        "    \n",
        "    for (name, db_enc) in database.items():\n",
        "        for element in db_enc:\n",
        "          \n",
        "          dist = np.linalg.norm(encoding-element)\n",
        "          if dist < min_dist:\n",
        "              min_dist = dist\n",
        "              identity = name\n",
        "\n",
        "\n",
        "    \n",
        "    if min_dist > 0.7:\n",
        "        print(\"Not in the database.\")\n",
        "    else:\n",
        "        print (\"it's \" + str(identity) + \", the distance is \" + str(min_dist))\n",
        "    im = Image.open(image_path)\n",
        "    display(im)\n",
        "    return min_dist, identity"
      ],
      "execution_count": 14,
      "outputs": []
    },
    {
      "cell_type": "code",
      "metadata": {
        "id": "W_UjC5z45h4O"
      },
      "source": [
        "import keras.backend\n",
        "\n",
        "K = keras.backend.backend()\n",
        "if K=='tensorflow':\n",
        "    keras.backend.set_image_data_format(\"channels_last\")"
      ],
      "execution_count": 15,
      "outputs": []
    },
    {
      "cell_type": "code",
      "metadata": {
        "colab": {
          "base_uri": "https://localhost:8080/",
          "height": 434
        },
        "id": "xqmlcfoAPjvd",
        "outputId": "49129e8d-92c8-4a31-e42e-a37c9b8c6623"
      },
      "source": [
        "def testmodel():\n",
        "\tfolder = \"test/\"\n",
        "\n",
        "\t\n",
        "\tfor filename in os.listdir(folder):\n",
        "\t\t# path\n",
        "\t\tpath = folder + filename\n",
        "\t\tface = extract_face(path,(96,96))\n",
        "\t\t# plot\n",
        "\t\timg = Image.fromarray(face, 'RGB')\n",
        "\t\timg.save(path, \"JPEG\", optimize=True)\n",
        "\t\twho_is_it(path, database, FRmodel)\n",
        "testmodel()"
      ],
      "execution_count": 16,
      "outputs": [
        {
          "output_type": "stream",
          "text": [
            "Not in the database.\n"
          ],
          "name": "stdout"
        },
        {
          "output_type": "display_data",
          "data": {
            "image/png": "[encoded data removed]",
            "text/plain": [
              "<PIL.JpegImagePlugin.JpegImageFile image mode=RGB size=96x96 at 0x7FAE44ED6ED0>"
            ]
          },
          "metadata": {
            "tags": []
          }
        },
        {
          "output_type": "stream",
          "text": [
            "WARNING:tensorflow:5 out of the last 15 calls to <function Model.make_predict_function.<locals>.predict_function at 0x7faeda2a8dd0> triggered tf.function retracing. Tracing is expensive and the excessive number of tracings could be due to (1) creating @tf.function repeatedly in a loop, (2) passing tensors with different shapes, (3) passing Python objects instead of tensors. For (1), please define your @tf.function outside of the loop. For (2), @tf.function has experimental_relax_shapes=True option that relaxes argument shapes that can avoid unnecessary retracing. For (3), please refer to https://www.tensorflow.org/tutorials/customization/performance#python_or_tensor_args and https://www.tensorflow.org/api_docs/python/tf/function for  more details.\n",
            "WARNING:tensorflow:6 out of the last 16 calls to <function Model.make_predict_function.<locals>.predict_function at 0x7faeda2a8dd0> triggered tf.function retracing. Tracing is expensive and the excessive number of tracings could be due to (1) creating @tf.function repeatedly in a loop, (2) passing tensors with different shapes, (3) passing Python objects instead of tensors. For (1), please define your @tf.function outside of the loop. For (2), @tf.function has experimental_relax_shapes=True option that relaxes argument shapes that can avoid unnecessary retracing. For (3), please refer to https://www.tensorflow.org/tutorials/customization/performance#python_or_tensor_args and https://www.tensorflow.org/api_docs/python/tf/function for  more details.\n",
            "it's Gustavo Fring, the distance is 0.46325082\n"
          ],
          "name": "stdout"
        },
        {
          "output_type": "display_data",
          "data": {
            "image/png": "[encoded data removed]",
            "text/plain": [
              "<PIL.JpegImagePlugin.JpegImageFile image mode=RGB size=96x96 at 0x7FAEE9BBFE90>"
            ]
          },
          "metadata": {
            "tags": []
          }
        },
        {
          "output_type": "stream",
          "text": [
            "WARNING:tensorflow:5 out of the last 14 calls to <function Model.make_predict_function.<locals>.predict_function at 0x7fae8666c440> triggered tf.function retracing. Tracing is expensive and the excessive number of tracings could be due to (1) creating @tf.function repeatedly in a loop, (2) passing tensors with different shapes, (3) passing Python objects instead of tensors. For (1), please define your @tf.function outside of the loop. For (2), @tf.function has experimental_relax_shapes=True option that relaxes argument shapes that can avoid unnecessary retracing. For (3), please refer to https://www.tensorflow.org/tutorials/customization/performance#python_or_tensor_args and https://www.tensorflow.org/api_docs/python/tf/function for  more details.\n",
            "it's Walter White, the distance is 0.48166725\n"
          ],
          "name": "stdout"
        },
        {
          "output_type": "display_data",
          "data": {
            "image/png": "[encoded data removed]",
            "text/plain": [
              "<PIL.JpegImagePlugin.JpegImageFile image mode=RGB size=96x96 at 0x7FAEE9C04D50>"
            ]
          },
          "metadata": {
            "tags": []
          }
        }
      ]
    },
    {
      "cell_type": "markdown",
      "metadata": {
        "id": "mHBJAinmTliR"
      },
      "source": [
        "Feel free to try it yourself. Remember to use the code below to transform your input to the correct form. Have fun!!"
      ]
    },
    {
      "cell_type": "code",
      "metadata": {
        "id": "mJ3rpemhnZh5"
      },
      "source": [
        "'''\n",
        "face = extract_face(path,(96,96))\n",
        "\t\t# plot\n",
        "img = Image.fromarray(face, 'RGB')\n",
        "img.save(path, \"JPEG\", optimize=True)\n",
        "who_is_it(path, database, FRmodel)\n",
        "\n",
        "'''"
      ],
      "execution_count": null,
      "outputs": []
    }
  ]
}